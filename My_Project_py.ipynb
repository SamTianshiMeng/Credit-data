{
  "nbformat": 4,
  "nbformat_minor": 0,
  "metadata": {
    "colab": {
      "provenance": [],
      "include_colab_link": true
    },
    "kernelspec": {
      "name": "python3",
      "display_name": "Python 3"
    },
    "language_info": {
      "name": "python"
    }
  },
  "cells": [
    {
      "cell_type": "markdown",
      "metadata": {
        "id": "view-in-github",
        "colab_type": "text"
      },
      "source": [
        "<a href=\"https://colab.research.google.com/github/SamTianshiMeng/Credit-data/blob/main/My_Project_py.ipynb\" target=\"_parent\"><img src=\"https://colab.research.google.com/assets/colab-badge.svg\" alt=\"Open In Colab\"/></a>"
      ]
    },
    {
      "cell_type": "markdown",
      "source": [
        "# **GROUP PROJECT ITM 618**\n",
        "\n"
      ],
      "metadata": {
        "id": "c7v8ampFfcQv"
      }
    },
    {
      "cell_type": "code",
      "source": [
        "import pandas as pd\n",
        "import matplotlib.pyplot as plt\n",
        "import seaborn as sns\n",
        "from sklearn.preprocessing import MinMaxScaler\n",
        "from sklearn.tree import DecisionTreeClassifier\n",
        "from sklearn.metrics import accuracy_score, classification_report\n",
        "from sklearn.tree import plot_tree\n",
        "from sklearn.neighbors import KNeighborsClassifier\n",
        "from sklearn.model_selection import cross_val_score\n",
        "from sklearn.metrics import roc_curve, roc_auc_score"
      ],
      "metadata": {
        "id": "a0vW2nmIfo16"
      },
      "execution_count": null,
      "outputs": []
    },
    {
      "cell_type": "code",
      "source": [
        "from google.colab import files"
      ],
      "metadata": {
        "id": "DEt2B9c3f3wv"
      },
      "execution_count": null,
      "outputs": []
    },
    {
      "cell_type": "code",
      "source": [
        "from google.colab import drive\n",
        "drive.mount('/content/drive')"
      ],
      "metadata": {
        "id": "32da-sDdgZmI"
      },
      "execution_count": null,
      "outputs": []
    },
    {
      "cell_type": "code",
      "source": [
        "train_set = pd.read_csv(\"/trainset.csv\")\n",
        "test_set = pd.read_csv(\"/testset.csv\")"
      ],
      "metadata": {
        "id": "7KP5dX7AiHiP"
      },
      "execution_count": null,
      "outputs": []
    },
    {
      "cell_type": "markdown",
      "source": [
        "**Data Exploration**"
      ],
      "metadata": {
        "id": "fvTL0hroi6jz"
      }
    },
    {
      "cell_type": "code",
      "source": [
        "print(train_set.head()) #overview of the first instances of our train and test sets\n",
        "print(test_set.head())"
      ],
      "metadata": {
        "id": "gpuAEl4ti_3M"
      },
      "execution_count": null,
      "outputs": []
    },
    {
      "cell_type": "code",
      "source": [
        "train_set.describe() #description of the numerical atributes\n",
        "test_set.describe()"
      ],
      "metadata": {
        "id": "WxFveofAjfvo"
      },
      "execution_count": null,
      "outputs": []
    },
    {
      "cell_type": "code",
      "source": [
        "train_set.dtypes # for seeing the datatypes of our variables"
      ],
      "metadata": {
        "id": "r1mp2O_akh0E"
      },
      "execution_count": null,
      "outputs": []
    },
    {
      "cell_type": "code",
      "source": [
        "correlation_matrix = train_set.corr(numeric_only = True) #to observe the correlation among our numeric features\n",
        "print(correlation_matrix)"
      ],
      "metadata": {
        "id": "uzfM99XXlgh4"
      },
      "execution_count": null,
      "outputs": []
    },
    {
      "cell_type": "code",
      "source": [
        "train_set['age'].hist(bins=50) #age distribution\n",
        "plt.show()"
      ],
      "metadata": {
        "id": "fuBm1uCzndGP"
      },
      "execution_count": null,
      "outputs": []
    },
    {
      "cell_type": "code",
      "source": [
        "train_set['Subscribed'].value_counts() #number of users subsbribed vs not subscribed"
      ],
      "metadata": {
        "id": "4J0s1W_aqNSU"
      },
      "execution_count": null,
      "outputs": []
    },
    {
      "cell_type": "code",
      "source": [
        "sns.countplot(x='Subscribed', data=train_set) #target distribution\n",
        "plt.show()"
      ],
      "metadata": {
        "id": "mYeW_Od9otzN"
      },
      "execution_count": null,
      "outputs": []
    },
    {
      "cell_type": "code",
      "source": [
        "sns.boxplot(x='Subscribed', y='age', data=train_set) #boxplot subscribed, age\n",
        "plt.show()"
      ],
      "metadata": {
        "id": "0ysxVBf6paXx"
      },
      "execution_count": null,
      "outputs": []
    },
    {
      "cell_type": "markdown",
      "source": [
        "**Data Preprocessing**"
      ],
      "metadata": {
        "id": "eqhuTECdqrfn"
      }
    },
    {
      "cell_type": "code",
      "source": [
        "#checking for missing values\n",
        "train_set.isnull().sum()"
      ],
      "metadata": {
        "id": "BI7cGaDyrAzR"
      },
      "execution_count": null,
      "outputs": []
    },
    {
      "cell_type": "markdown",
      "source": [
        "One-hot encoding for categorical variables"
      ],
      "metadata": {
        "id": "5XD-A3kjDlZk"
      }
    },
    {
      "cell_type": "code",
      "source": [
        "categorical_vars = ['job', 'marital', 'education', 'housing', 'loan', 'contact', 'month', 'day_of_week', 'poutcome']\n",
        "train_set_encoded = pd.get_dummies(train_set, columns=categorical_vars)\n",
        "test_set_encoded = pd.get_dummies(test_set, columns=categorical_vars)"
      ],
      "metadata": {
        "id": "6nADsYhUrOri"
      },
      "execution_count": null,
      "outputs": []
    },
    {
      "cell_type": "markdown",
      "source": [
        "Removing outliers"
      ],
      "metadata": {
        "id": "igakBCWZB9vC"
      }
    },
    {
      "cell_type": "code",
      "source": [
        "#numerical columns that are not part of the encoding\n",
        "numerical_cols = [col for col in train_set_encoded.columns if col not in categorical_vars and train_set_encoded[col].dtype in ['int64', 'float64']]\n",
        "\n",
        "#IQR for numerical columns\n",
        "Q1 = train_set_encoded[numerical_cols].quantile(0.25)\n",
        "Q3 = train_set_encoded[numerical_cols].quantile(0.75)\n",
        "IQR = Q3 - Q1\n",
        "\n",
        "#removing the outliers\n",
        "train_set_filtered = train_set_encoded[~((train_set_encoded[numerical_cols] < (Q1 - 1.5 * IQR)) | (train_set_encoded[numerical_cols] > (Q3 + 1.5 * IQR))).any(axis=1)]"
      ],
      "metadata": {
        "id": "gxwM6kptCANE"
      },
      "execution_count": null,
      "outputs": []
    },
    {
      "cell_type": "markdown",
      "source": [
        "Min-max Normalization"
      ],
      "metadata": {
        "id": "cKhkFB2DDgAe"
      }
    },
    {
      "cell_type": "code",
      "source": [
        "scaler = MinMaxScaler()\n",
        "train_set_filtered[numerical_cols] = scaler.fit_transform(train_set_filtered[numerical_cols])\n",
        "test_set_encoded[numerical_cols] = scaler.transform(test_set_encoded[numerical_cols])"
      ],
      "metadata": {
        "id": "jifm-A_DDjdw"
      },
      "execution_count": null,
      "outputs": []
    },
    {
      "cell_type": "markdown",
      "source": [
        "**Building the models**"
      ],
      "metadata": {
        "id": "ysY_YT6gFoTj"
      }
    },
    {
      "cell_type": "markdown",
      "source": [
        "Decission Tree"
      ],
      "metadata": {
        "id": "7htl5nMKcyxc"
      }
    },
    {
      "cell_type": "code",
      "source": [
        "#decission tree classifier, default parameters\n",
        "dt_model = DecisionTreeClassifier()\n",
        "\n",
        "#splitting train and test sets into features and target\n",
        "x_train = train_set_filtered.drop('Subscribed', axis=1) #train only features\n",
        "y_train = train_set_filtered['Subscribed'] #train only target\n",
        "x_test = test_set_encoded.drop('Subscribed', axis=1) #test only features\n",
        "y_test = test_set_encoded['Subscribed'] #test only target\n",
        "\n",
        "#here we use the fit method to train our model\n",
        "dt_model.fit(x_train, y_train)\n",
        "\n",
        "#use the trained model to make predictions\n",
        "dt_y_pred = dt_model.predict(x_test)\n",
        "\n",
        "#tree visualization\n",
        "plt.figure(figsize=(12,8))\n",
        "plot_tree(dt_model, filled=True, feature_names= x_train.columns, class_names=['No', 'Yes'], rounded=True)\n",
        "plt.show()"
      ],
      "metadata": {
        "id": "tNp5IG9wFzsh"
      },
      "execution_count": null,
      "outputs": []
    },
    {
      "cell_type": "markdown",
      "source": [
        "K-nearest neighbour"
      ],
      "metadata": {
        "id": "_aOtAX7PhKD8"
      }
    },
    {
      "cell_type": "code",
      "source": [
        "#knn classifier with k set to 7, initially\n",
        "knn_model = KNeighborsClassifier(n_neighbors=7)\n",
        "#train knn\n",
        "knn_model.fit(x_train, y_train)\n",
        "#make predictions\n",
        "knn_y_pred = knn_model.predict(x_test)\n"
      ],
      "metadata": {
        "id": "LFQf3wkZhN7e"
      },
      "execution_count": null,
      "outputs": []
    },
    {
      "cell_type": "markdown",
      "source": [
        "As part of k-nn, we could also perform a cross validation in order to choose the most optimal value of k"
      ],
      "metadata": {
        "id": "cOxDyGu0lCbE"
      }
    },
    {
      "cell_type": "code",
      "source": [
        "#k values from which we are going to select the most accurate one\n",
        "neighbor_values = range(5, 29)\n",
        "\n",
        "#empty list to store the average cross-validated scores\n",
        "cv_scores = []\n",
        "\n",
        "#10-fold cross-validation\n",
        "for k in neighbor_values:\n",
        "    knn = KNeighborsClassifier(n_neighbors=k)\n",
        "    scores = cross_val_score(knn, x_train, y_train, cv=10, scoring='accuracy')\n",
        "    cv_scores.append(scores.mean())\n",
        "\n",
        "#find the value of n_neighbors that gives the highest mean accuracy\n",
        "optimal_k = neighbor_values[cv_scores.index(max(cv_scores))]\n",
        "print(f\"The optimal number of neighbors is {optimal_k}\")"
      ],
      "metadata": {
        "id": "Fr6NnTmKlQVV"
      },
      "execution_count": null,
      "outputs": []
    },
    {
      "cell_type": "markdown",
      "source": [
        "**Evaluate the models**"
      ],
      "metadata": {
        "id": "D0E6NO_FoYjF"
      }
    },
    {
      "cell_type": "markdown",
      "source": [
        "Evaluating the decission tree"
      ],
      "metadata": {
        "id": "BfAzo3daofoh"
      }
    },
    {
      "cell_type": "code",
      "source": [
        "#predicting on the test set\n",
        "dt_y_pred = dt_model.predict(x_test)\n",
        "\n",
        "#performance metrics\n",
        "dt_accuracy = accuracy_score(y_test, dt_y_pred)\n",
        "dt_error_rate = 1 - dt_accuracy\n",
        "dt_classification_report = classification_report(y_test, dt_y_pred)\n",
        "\n",
        "print(\"Decision Tree Model Test Results:\")\n",
        "print(f\"Accuracy: {dt_accuracy}\")\n",
        "print(f\"Error Rate: {dt_error_rate}\")\n",
        "print(\"Classification Report:\")\n",
        "print(dt_classification_report)"
      ],
      "metadata": {
        "id": "9Sw6IncqoeTz"
      },
      "execution_count": null,
      "outputs": []
    },
    {
      "cell_type": "code",
      "source": [
        "#performing ROC on Decission Tree\n",
        "\n",
        "y_test_binary = y_test.replace({'no': 0, 'yes': 1})\n",
        "\n",
        "#probabilities for each instance in the test set of being in each class\n",
        "dt_y_pred_proba = dt_model.predict_proba(x_test)[:, 1]\n",
        "\n",
        "#ROC curve\n",
        "fpr, tpr, _ = roc_curve(y_test_binary, dt_y_pred_proba)\n",
        "\n",
        "#AUC\n",
        "roc_auc = roc_auc_score(y_test_binary, dt_y_pred_proba)\n",
        "\n",
        "plt.figure(figsize=(10, 8))\n",
        "plt.plot(fpr, tpr, color='brown', lw=2, label=f'ROC curve (area = {roc_auc:.2f})')\n",
        "plt.plot([0, 1], [0, 1], color='green', lw=2, linestyle='--')\n",
        "plt.xlim([0.0, 1.0])\n",
        "plt.ylim([0.0, 1.05])\n",
        "plt.xlabel('False Positive Rate')\n",
        "plt.ylabel('True Positive Rate')\n",
        "plt.title('ROC - TREE')\n",
        "plt.legend(loc=\"lower right\")\n",
        "plt.show()"
      ],
      "metadata": {
        "id": "1b0tS8pSR6nv"
      },
      "execution_count": null,
      "outputs": []
    },
    {
      "cell_type": "markdown",
      "source": [
        "Evaluating the k-nn"
      ],
      "metadata": {
        "id": "Kqpgg062pwvF"
      }
    },
    {
      "cell_type": "code",
      "source": [
        "#predicting on the test set\n",
        "knn_y_pred = knn_model.predict(x_test)\n",
        "\n",
        "#performance metrics\n",
        "knn_accuracy = accuracy_score(y_test, knn_y_pred)\n",
        "knn_error_rate = 1 - knn_accuracy\n",
        "knn_classification_report = classification_report(y_test, knn_y_pred)\n",
        "\n",
        "print(\"K-Nearest Neighbors Model Test Results:\")\n",
        "print(f\"Accuracy: {knn_accuracy}\")\n",
        "print(f\"Error Rate: {knn_error_rate}\")\n",
        "print(\"Classification Report:\")\n",
        "print(knn_classification_report)"
      ],
      "metadata": {
        "id": "6e1edZ3opzmU"
      },
      "execution_count": null,
      "outputs": []
    },
    {
      "cell_type": "code",
      "source": [
        "#performing ROC on k-nn\n",
        "\n",
        "#probability scores of the positive class ('yes'), the one we are most interested on predicting\n",
        "knn_y_prob = knn_model.predict_proba(x_test)[:, 1]\n",
        "\n",
        "#ROC curve\n",
        "fpr, tpr, thresholds = roc_curve(y_test, knn_y_prob, pos_label='yes')\n",
        "\n",
        "#AUC\n",
        "roc_auc = auc(fpr, tpr)\n",
        "\n",
        "plt.figure(figsize=(8, 6))\n",
        "plt.plot(fpr, tpr, color='darkblue', lw=2, label=f'ROC curve (area = {roc_auc:.2f})')\n",
        "plt.plot([0, 1], [0, 1], color='red', lw=2, linestyle='--')\n",
        "plt.xlim([0.0, 1.0])\n",
        "plt.ylim([0.0, 1.05])\n",
        "plt.xlabel('False Positive Rate')\n",
        "plt.ylabel('True Positive Rate')\n",
        "plt.title('ROC - KNN')\n",
        "plt.legend(loc=\"lower right\")\n",
        "plt.show()"
      ],
      "metadata": {
        "id": "weKdGFgarrtd"
      },
      "execution_count": null,
      "outputs": []
    }
  ]
}